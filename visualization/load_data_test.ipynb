{
 "cells": [
  {
   "cell_type": "code",
   "execution_count": 1,
   "metadata": {},
   "outputs": [],
   "source": [
    "import numpy as np\n",
    "import scipy.sparse\n",
    "from utils import *\n",
    "from data import *\n",
    "import matplotlib.pyplot as plt\n",
    "import networkx as nx\n",
    "import pickle\n"
   ]
  },
  {
   "cell_type": "code",
   "execution_count": null,
   "metadata": {},
   "outputs": [],
   "source": [
    "file_tuple = (\"datasets/download.tsv.opsahl-ucsocial.tar.bz2\", \"opsahl-ucsocial/out.opsahl-ucsocial\")\n",
    "data_uci = Dataset_UCI(file_tuple)\n"
   ]
  },
  {
   "cell_type": "code",
   "execution_count": null,
   "metadata": {},
   "outputs": [],
   "source": [
    "data_sbm = Dataset_SBM(\"datasets/sbm_50t_1000n_adj.csv\")"
   ]
  },
  {
   "cell_type": "code",
   "execution_count": null,
   "metadata": {},
   "outputs": [],
   "source": [
    "# data_as = Dataset_AS(\"datasets/as_data\")\n",
    "with open(\"datasets/as_data/ASdata_class\", \"rb\") as f:\n",
    "    data_as = pickle.load(f)"
   ]
  },
  {
   "cell_type": "code",
   "execution_count": null,
   "metadata": {},
   "outputs": [],
   "source": [
    "data_bitcoin = Dataset_BitCoin(\"datasets/soc-sign-bitcoinotc.csv\")"
   ]
  },
  {
   "cell_type": "code",
   "execution_count": 2,
   "metadata": {},
   "outputs": [
    {
     "name": "stdout",
     "output_type": "stream",
     "text": [
      "loading graph at time stamp 0\n",
      "loading graph at time stamp 1\n",
      "loading graph at time stamp 2\n",
      "loading graph at time stamp 3\n",
      "loading graph at time stamp 4\n",
      "loading graph at time stamp 5\n",
      "loading graph at time stamp 6\n",
      "loading graph at time stamp 7\n",
      "loading graph at time stamp 8\n",
      "loading graph at time stamp 9\n",
      "loading graph at time stamp 10\n",
      "loading graph at time stamp 11\n",
      "loading graph at time stamp 12\n",
      "loading graph at time stamp 13\n",
      "loading graph at time stamp 14\n",
      "loading graph at time stamp 15\n",
      "loading graph at time stamp 16\n",
      "loading graph at time stamp 17\n",
      "loading graph at time stamp 18\n",
      "loading graph at time stamp 19\n",
      "loading graph at time stamp 20\n",
      "loading graph at time stamp 21\n",
      "loading graph at time stamp 22\n",
      "loading graph at time stamp 23\n",
      "loading graph at time stamp 24\n",
      "loading graph at time stamp 25\n",
      "loading graph at time stamp 26\n",
      "loading graph at time stamp 27\n",
      "loading graph at time stamp 28\n",
      "loading graph at time stamp 29\n",
      "loading graph at time stamp 30\n",
      "loading graph at time stamp 31\n",
      "loading graph at time stamp 32\n",
      "loading graph at time stamp 33\n",
      "loading graph at time stamp 34\n",
      "loading graph at time stamp 35\n",
      "loading graph at time stamp 36\n",
      "loading graph at time stamp 37\n",
      "loading graph at time stamp 38\n",
      "loading graph at time stamp 39\n",
      "loading graph at time stamp 40\n",
      "loading graph at time stamp 41\n",
      "loading graph at time stamp 42\n",
      "loading graph at time stamp 43\n",
      "loading graph at time stamp 44\n",
      "loading graph at time stamp 45\n",
      "loading graph at time stamp 46\n",
      "loading graph at time stamp 47\n",
      "loading graph at time stamp 48\n",
      "loading graph at time stamp 49\n",
      "loading graph at time stamp 50\n",
      "loading graph at time stamp 51\n",
      "loading graph at time stamp 52\n",
      "loading graph at time stamp 53\n",
      "loading graph at time stamp 54\n",
      "loading graph at time stamp 55\n",
      "loading graph at time stamp 56\n",
      "loading graph at time stamp 57\n",
      "loading graph at time stamp 58\n",
      "loading graph at time stamp 59\n",
      "loading graph at time stamp 60\n",
      "loading graph at time stamp 61\n",
      "loading graph at time stamp 62\n",
      "loading graph at time stamp 63\n",
      "loading graph at time stamp 64\n",
      "loading graph at time stamp 65\n",
      "loading graph at time stamp 66\n",
      "loading graph at time stamp 67\n",
      "loading graph at time stamp 68\n",
      "loading graph at time stamp 69\n",
      "loading graph at time stamp 70\n",
      "loading graph at time stamp 71\n",
      "loading graph at time stamp 72\n",
      "loading graph at time stamp 73\n",
      "loading graph at time stamp 74\n",
      "loading graph at time stamp 75\n",
      "loading graph at time stamp 76\n",
      "loading graph at time stamp 77\n",
      "loading graph at time stamp 78\n",
      "loading graph at time stamp 79\n",
      "loading graph at time stamp 80\n",
      "loading graph at time stamp 81\n",
      "loading graph at time stamp 82\n",
      "loading graph at time stamp 83\n",
      "loading graph at time stamp 84\n",
      "loading graph at time stamp 85\n",
      "loading graph at time stamp 86\n",
      "loading graph at time stamp 87\n",
      "loading graph at time stamp 88\n",
      "loading graph at time stamp 89\n",
      "loading graph at time stamp 90\n",
      "loading finished! The dynamic graph has 91 time stamps.\n"
     ]
    }
   ],
   "source": [
    "data_RM = Dataset_RM((\"datasets/download.tsv.mit.tar.bz2\", \"mit/out.mit\"))"
   ]
  },
  {
   "cell_type": "code",
   "execution_count": null,
   "metadata": {},
   "outputs": [],
   "source": [
    "def normalizeAdjacency(W):\n",
    "    \"\"\"\n",
    "    NormalizeAdjacency: Computes the degree-normalized adjacency matrix\n",
    "\n",
    "    Input:\n",
    "\n",
    "        W (np.array): adjacency matrix\n",
    "\n",
    "    Output:\n",
    "\n",
    "        A (np.array): degree-normalized adjacency matrix\n",
    "    \"\"\"\n",
    "    # Check that the matrix is square\n",
    "    assert W.shape[0] == W.shape[1]\n",
    "    # Compute the degree vector\n",
    "    d = np.sum(W, axis = 1)\n",
    "    # Invert the square root of the degree\n",
    "    d = 1/np.sqrt(d)\n",
    "    # And build the square root inverse degree matrix\n",
    "    D = np.diag(d)\n",
    "    # Return the Normalized Adjacency\n",
    "    return D @ W @ D "
   ]
  },
  {
   "cell_type": "code",
   "execution_count": 3,
   "metadata": {},
   "outputs": [],
   "source": [
    "def cos_similarity(A1, A2):\n",
    "    N = min(A1.shape[0], A2.shape[0])\n",
    "    A1_flatten = A1[:N, :N].reshape(-1, 1)\n",
    "    A2_flatten = A2[:N, :N].reshape(-1, 1)\n",
    "    A1_upper = A1_flatten.tocsr()[: A1_flatten.shape[0] // 2]\n",
    "    A2_upper = A2_flatten.tocsr()[: A2_flatten.shape[0] // 2]\n",
    "    return A1_upper.multiply(A2_upper).sum() / (\n",
    "        scipy.sparse.linalg.norm(A1_upper) * scipy.sparse.linalg.norm(A2_upper)\n",
    "    )\n",
    "\n",
    "def pearson_coeff(A1, A2):\n",
    "    A1 = A1.toarray()\n",
    "    A2 = A2.toarray()\n",
    "    N = min(A1.shape[0], A2.shape[0])\n",
    "    A1_flatten = A1[:N, :N].flatten()\n",
    "    A2_flatten = A2[:N, :N].flatten()\n",
    "    A1_upper = A1_flatten[: A1_flatten.shape[0] // 2]\n",
    "    A2_upper = A2_flatten[: A2_flatten.shape[0] // 2]\n",
    "    return scipy.stats.pearsonr(A1_upper, A2_upper)[0]\n"
   ]
  },
  {
   "cell_type": "code",
   "execution_count": null,
   "metadata": {},
   "outputs": [],
   "source": [
    "sbm_time_list = [9, 19, 29, 39, 49]\n",
    "sbm_sim = np.zeros([len(sbm_time_list), 10])\n",
    "for idx in range(len(sbm_time_list)):\n",
    "    t = sbm_time_list[idx]\n",
    "    print(\"the cos similarity of time stamp %d and it's past 10 times: \" %(t+1))\n",
    "    for i in range(10):\n",
    "        sbm_sim[idx, i] = cos_similarity(data_sbm.A_list[t-i], data_sbm.A_list[t])\n",
    "        print(\"%.3f\" %(sbm_sim[idx, i]), end=\" \")\n",
    "        # print(pearson_coeff(data1.A_list[t-i], data1.A_list[t]))\n",
    "    print()"
   ]
  },
  {
   "cell_type": "code",
   "execution_count": null,
   "metadata": {},
   "outputs": [],
   "source": [
    "t_stamps = np.linspace(0, -9, num=10)\n",
    "plt.plot(t_stamps, sbm_sim.T)\n",
    "plt.legend([\"time stamp \" + str(t+1) for t in sbm_time_list])\n",
    "plt.xticks(t_stamps)\n",
    "plt.title(\"SBM, similarity with the past\")\n",
    "plt.show()\n",
    "# plt.ylim([0,1])\n"
   ]
  },
  {
   "cell_type": "code",
   "execution_count": null,
   "metadata": {},
   "outputs": [],
   "source": [
    "uci_time_list = [9, 19, 29, 39, 49, 59, 69, 79, 86]\n",
    "uci_sim = np.zeros([len(uci_time_list), 10])\n",
    "for idx in range(len(uci_time_list)):\n",
    "    t = uci_time_list[idx]\n",
    "    print(\"the cos similarity of time stamp %d and it's past 10 times: \" %(t+1))\n",
    "    for i in range(10):\n",
    "        uci_sim[idx, i] = cos_similarity(data_uci.A_list[t-i], data_uci.A_list[t])\n",
    "        print(\"%.3f\" %(uci_sim[idx, i]), end=\" \")\n",
    "        # print(pearson_coeff(data1.A_list[t-i], data1.A_list[t]))\n",
    "    print()"
   ]
  },
  {
   "cell_type": "code",
   "execution_count": null,
   "metadata": {},
   "outputs": [],
   "source": [
    "t_stamps = np.linspace(0, -9, num=10)\n",
    "plt.plot(t_stamps, uci_sim.T)\n",
    "plt.legend([\"time stamp \" + str(t+1) for t in uci_time_list])\n",
    "plt.xticks(t_stamps)\n",
    "plt.title(\"UCI, similarity with the past\")\n",
    "plt.show()\n",
    "# plt.ylim([0,1])\n"
   ]
  },
  {
   "cell_type": "code",
   "execution_count": null,
   "metadata": {},
   "outputs": [],
   "source": [
    "as_time_list = [9, 19, 29, 39, 49, 59, 69, 79, 89, 99]\n",
    "as_sim = np.zeros([len(as_time_list), 10])\n",
    "for idx in range(len(as_time_list)):\n",
    "    t = as_time_list[idx]\n",
    "    print(\"the cos similarity of time stamp %d and it's past 10 times: \" %(t+1))\n",
    "    for i in range(10):\n",
    "        as_sim[idx, i] = cos_similarity(data_as.A_list[t-i], data_as.A_list[t])\n",
    "        print(\"%.3f\" %(as_sim[idx, i]), end=\" \")\n",
    "        # print(pearson_coeff(data1.A_list[t-i], data1.A_list[t]))\n",
    "    print()"
   ]
  },
  {
   "cell_type": "code",
   "execution_count": null,
   "metadata": {},
   "outputs": [],
   "source": [
    "t_stamps = np.linspace(0, -9, num=10)\n",
    "plt.plot(t_stamps, as_sim.T)\n",
    "plt.legend([\"time stamp \" + str(t+1) for t in as_time_list])\n",
    "plt.xticks(t_stamps)\n",
    "plt.title(\"AS, similarity with the past\")\n",
    "plt.show()\n",
    "# plt.ylim([0,1])\n"
   ]
  },
  {
   "cell_type": "code",
   "execution_count": null,
   "metadata": {},
   "outputs": [],
   "source": [
    "bitcoin_time_list = [9, 29, 49, 69, 89, 109, 129, 133]\n",
    "bitcoin_sim = np.zeros([len(bitcoin_time_list), 10])\n",
    "for idx in range(len(bitcoin_time_list)):\n",
    "    t = bitcoin_time_list[idx]\n",
    "    print(\"the cos similarity of time stamp %d and it's past 10 times: \" %(t+1))\n",
    "    for i in range(10):\n",
    "        bitcoin_sim[idx, i] = cos_similarity(data_bitcoin.A_list[t-i], data_bitcoin.A_list[t])\n",
    "        print(\"%.3f\" %(bitcoin_sim[idx, i]), end=\" \")\n",
    "        # print(pearson_coeff(data1.A_list[t-i], data1.A_list[t]))\n",
    "    print()"
   ]
  },
  {
   "cell_type": "code",
   "execution_count": null,
   "metadata": {},
   "outputs": [],
   "source": [
    "bitcoin_nodes = [A.shape[0] for A in data_bitcoin.A_list]\n",
    "bitcoin_edges = [A.nnz for A in data_bitcoin.A_list]\n",
    "plt.plot(np.arange(134), bitcoin_nodes, label=\"# nodes\")\n",
    "plt.plot(np.arange(134), bitcoin_edges, label=\"# edges\")\n",
    "plt.legend()\n",
    "plt.show()"
   ]
  },
  {
   "cell_type": "code",
   "execution_count": 4,
   "metadata": {},
   "outputs": [
    {
     "name": "stdout",
     "output_type": "stream",
     "text": [
      "the cos similarity of time stamp 10 and it's past 10 times: \n",
      "1.000 0.536 0.364 0.368 0.395 0.298 0.355 0.341 0.294 0.228 \n",
      "the cos similarity of time stamp 20 and it's past 10 times: \n",
      "1.000 0.482 0.461 0.457 0.377 0.365 0.354 0.239 0.379 0.359 \n",
      "the cos similarity of time stamp 30 and it's past 10 times: \n",
      "1.000 0.218 0.541 0.560 0.599 0.574 0.433 0.522 0.525 0.426 \n",
      "the cos similarity of time stamp 40 and it's past 10 times: \n",
      "1.000 0.175 0.236 0.183 0.122 0.062 0.128 0.089 0.106 0.066 \n",
      "the cos similarity of time stamp 50 and it's past 10 times: \n",
      "1.000 0.389 0.443 0.362 0.341 0.397 0.375 0.000 0.000 0.000 \n",
      "the cos similarity of time stamp 60 and it's past 10 times: \n",
      "1.000 0.410 0.512 0.338 0.301 0.358 0.341 0.364 0.421 0.343 \n",
      "the cos similarity of time stamp 70 and it's past 10 times: \n",
      "1.000 0.613 0.482 0.331 0.450 0.453 0.397 0.364 0.218 0.345 \n",
      "the cos similarity of time stamp 80 and it's past 10 times: \n",
      "1.000 0.554 0.424 0.311 0.269 0.161 0.312 0.228 0.298 0.187 \n",
      "the cos similarity of time stamp 90 and it's past 10 times: \n",
      "1.000 0.810 0.709 0.672 0.669 0.733 0.390 0.538 0.533 0.250 \n"
     ]
    }
   ],
   "source": [
    "RM_time_list = [9, 19, 29, 39, 49, 59, 69, 79, 89]\n",
    "RM_sim = np.zeros([len(RM_time_list), 10])\n",
    "for idx in range(len(RM_time_list)):\n",
    "    t = RM_time_list[idx]\n",
    "    print(\"the cos similarity of time stamp %d and it's past 10 times: \" %(t+1))\n",
    "    for i in range(10):\n",
    "        RM_sim[idx, i] = cos_similarity(data_RM.A_list[t-i], data_RM.A_list[t])\n",
    "        print(\"%.3f\" %(RM_sim[idx, i]), end=\" \")\n",
    "        # print(pearson_coeff(data1.A_list[t-i], data1.A_list[t]))\n",
    "    print()"
   ]
  },
  {
   "cell_type": "code",
   "execution_count": 5,
   "metadata": {},
   "outputs": [
    {
     "data": {
      "image/png": "[encoded data removed]",
      "text/plain": [
       "<Figure size 432x288 with 1 Axes>"
      ]
     },
     "metadata": {
      "needs_background": "light"
     },
     "output_type": "display_data"
    }
   ],
   "source": [
    "t_stamps = np.linspace(0, -9, num=10)\n",
    "plt.plot(t_stamps, RM_sim.T)\n",
    "plt.legend([\"time stamp \" + str(t+1) for t in RM_time_list])\n",
    "plt.xticks(t_stamps)\n",
    "plt.title(\"RM, similarity with the past\")\n",
    "plt.show()\n",
    "# plt.ylim([0,1])"
   ]
  },
  {
   "cell_type": "code",
   "execution_count": null,
   "metadata": {},
   "outputs": [],
   "source": []
  },
  {
   "cell_type": "code",
   "execution_count": null,
   "metadata": {},
   "outputs": [],
   "source": [
    "bitcoin_graph_list = []\n",
    "for i in range(len(data_bitcoin)):\n",
    "    bitcoin_graph_list.append(nx.from_numpy_matrix(data_bitcoin.A_list[i]))"
   ]
  },
  {
   "cell_type": "code",
   "execution_count": null,
   "metadata": {},
   "outputs": [],
   "source": [
    "fig, axes = plt.subplots(nrows=4, ncols=5, figsize=(20, 16), dpi=300)\n",
    "for row in range(4):\n",
    "    for column in range(5):\n",
    "        G = bitcoin_graph_list[10 + 5 * row + column]\n",
    "        pos = nx.spring_layout(G)\n",
    "        color_map = []\n",
    "        for node in G:\n",
    "            if node in nx.isolates(G):\n",
    "                color_map.append('red')\n",
    "            else: \n",
    "                color_map.append('blue')\n",
    "        nx.draw(G, pos, ax=axes[row, column], node_size=3, node_color=color_map, alpha=0.7)\n",
    "        axes[row, column].set_title(\"time stamp \" + str(10 + 5 * row + column))\n"
   ]
  },
  {
   "cell_type": "code",
   "execution_count": null,
   "metadata": {},
   "outputs": [],
   "source": [
    "fig, axes = plt.subplots(nrows=4, ncols=5, figsize=(20, 16), dpi=300)\n",
    "for row in range(4):\n",
    "    for column in range(5):\n",
    "        G = bitcoin_graph_list[10 + 5 * row + column]\n",
    "        G.remove_nodes_from(list(nx.isolates(G)))\n",
    "        pos = nx.spring_layout(G)\n",
    "        color_map = []\n",
    "        nx.draw(G, pos, ax=axes[row, column], node_size=3, node_color=\"b\", alpha=0.7)\n",
    "        axes[row, column].set_title(\"time stamp \" + str(10 + 5 * row + column))\n"
   ]
  },
  {
   "cell_type": "code",
   "execution_count": null,
   "metadata": {},
   "outputs": [],
   "source": []
  },
  {
   "cell_type": "code",
   "execution_count": null,
   "metadata": {},
   "outputs": [],
   "source": [
    "\n"
   ]
  }
 ],
 "metadata": {
  "interpreter": {
   "hash": "e57a8c635e1f790df65ed5b3cbad751c1533ca857cea08ee2f2515568af37203"
  },
  "kernelspec": {
   "display_name": "Python 3.9.0 ('DynG2G')",
   "language": "python",
   "name": "python3"
  },
  "language_info": {
   "codemirror_mode": {
    "name": "ipython",
    "version": 3
   },
   "file_extension": ".py",
   "mimetype": "text/x-python",
   "name": "python",
   "nbconvert_exporter": "python",
   "pygments_lexer": "ipython3",
   "version": "3.9.0"
  },
  "orig_nbformat": 4
 },
 "nbformat": 4,
 "nbformat_minor": 2
}
